{
 "cells": [
  {
   "cell_type": "markdown",
   "id": "6b1f6d21",
   "metadata": {},
   "source": [
    "# Creating Tensors in PyTorch\n",
    "- From the book ML with Pytorch"
   ]
  },
  {
   "cell_type": "code",
   "execution_count": 1,
   "id": "b8eccdf0",
   "metadata": {},
   "outputs": [],
   "source": [
    "import torch\n",
    "import numpy as np"
   ]
  },
  {
   "cell_type": "code",
   "execution_count": 2,
   "id": "dff6f3f2",
   "metadata": {},
   "outputs": [],
   "source": [
    "np.set_printoptions(precision=3)"
   ]
  },
  {
   "cell_type": "markdown",
   "id": "5b102321",
   "metadata": {},
   "source": [
    "#### Tensor Properties\n",
    "retained their properties from their source"
   ]
  },
  {
   "cell_type": "code",
   "execution_count": 3,
   "id": "4e3cf0c4",
   "metadata": {},
   "outputs": [
    {
     "name": "stdout",
     "output_type": "stream",
     "text": [
      "tensor([1, 2, 3])\n",
      "tensor([4, 5, 6], dtype=torch.int32)\n"
     ]
    }
   ],
   "source": [
    "a = [1, 2, 3]\n",
    "b = np.array([4, 5, 6], dtype=np.int32)\n",
    "ta = torch.tensor(a)\n",
    "tb = torch.from_numpy(b)\n",
    "print(ta)\n",
    "print(tb)"
   ]
  },
  {
   "cell_type": "markdown",
   "id": "74d9a615",
   "metadata": {},
   "source": [
    "#### Tensor of Ones"
   ]
  },
  {
   "cell_type": "code",
   "execution_count": 7,
   "id": "93231fea",
   "metadata": {},
   "outputs": [
    {
     "name": "stdout",
     "output_type": "stream",
     "text": [
      "tensor([[1., 1., 1.],\n",
      "        [1., 1., 1.]])\n"
     ]
    },
    {
     "data": {
      "text/plain": [
       "torch.Size([2, 3])"
      ]
     },
     "execution_count": 7,
     "metadata": {},
     "output_type": "execute_result"
    }
   ],
   "source": [
    "t_ones = torch.ones(2, 3)\n",
    "print(t_ones)\n",
    "t_ones.shape"
   ]
  },
  {
   "cell_type": "markdown",
   "id": "b1e83ce0",
   "metadata": {},
   "source": [
    "#### Random Tensors"
   ]
  },
  {
   "cell_type": "code",
   "execution_count": 8,
   "id": "44be685e",
   "metadata": {},
   "outputs": [
    {
     "name": "stdout",
     "output_type": "stream",
     "text": [
      "tensor([[0.5861, 0.1400, 0.2886],\n",
      "        [0.3380, 0.7557, 0.7275]])\n"
     ]
    }
   ],
   "source": [
    "rand_t = torch.rand(2, 3)\n",
    "print(rand_t)"
   ]
  },
  {
   "cell_type": "markdown",
   "id": "cf29d3a4",
   "metadata": {},
   "source": [
    "#### Manipulating the data type and shape of a tensor\n",
    "- See pytorch tensor attributes for all other dtypes"
   ]
  },
  {
   "cell_type": "code",
   "execution_count": 9,
   "id": "0b18fec2",
   "metadata": {},
   "outputs": [
    {
     "name": "stdout",
     "output_type": "stream",
     "text": [
      "tensor([1, 2, 3])\n",
      "torch.int64\n"
     ]
    }
   ],
   "source": [
    "ta_new = ta.to(torch.int64)\n",
    "print(ta_new)\n",
    "print(ta_new.dtype)"
   ]
  },
  {
   "cell_type": "markdown",
   "id": "507f1800",
   "metadata": {},
   "source": [
    "#### Transpose"
   ]
  },
  {
   "cell_type": "code",
   "execution_count": 11,
   "id": "0e322203",
   "metadata": {},
   "outputs": [
    {
     "data": {
      "text/plain": [
       "tensor([[0.7635, 0.2540, 0.7599, 0.4772, 0.6747],\n",
       "        [0.2158, 0.5964, 0.9429, 0.3509, 0.8510],\n",
       "        [0.4919, 0.6567, 0.8292, 0.5469, 0.5738]])"
      ]
     },
     "execution_count": 11,
     "metadata": {},
     "output_type": "execute_result"
    }
   ],
   "source": [
    "t = torch.rand(3, 5)\n",
    "t"
   ]
  },
  {
   "cell_type": "code",
   "execution_count": 12,
   "id": "2a739eaf",
   "metadata": {},
   "outputs": [
    {
     "data": {
      "text/plain": [
       "tensor([[0.7635, 0.2158, 0.4919],\n",
       "        [0.2540, 0.5964, 0.6567],\n",
       "        [0.7599, 0.9429, 0.8292],\n",
       "        [0.4772, 0.3509, 0.5469],\n",
       "        [0.6747, 0.8510, 0.5738]])"
      ]
     },
     "execution_count": 12,
     "metadata": {},
     "output_type": "execute_result"
    }
   ],
   "source": [
    "t_tr = torch.transpose(t, 0, 1)\n",
    "t_tr"
   ]
  },
  {
   "cell_type": "markdown",
   "id": "4a0e14bb",
   "metadata": {},
   "source": [
    "#### Reshape"
   ]
  },
  {
   "cell_type": "code",
   "execution_count": 13,
   "id": "8aabbad7",
   "metadata": {},
   "outputs": [
    {
     "data": {
      "text/plain": [
       "tensor([0., 0., 0., 0., 0., 0., 0., 0., 0., 0., 0., 0., 0., 0., 0., 0., 0., 0., 0., 0., 0., 0., 0., 0.,\n",
       "        0., 0., 0., 0., 0., 0.])"
      ]
     },
     "execution_count": 13,
     "metadata": {},
     "output_type": "execute_result"
    }
   ],
   "source": [
    "t = torch.zeros(30)\n",
    "t"
   ]
  },
  {
   "cell_type": "code",
   "execution_count": 14,
   "id": "835b2f50",
   "metadata": {},
   "outputs": [
    {
     "data": {
      "text/plain": [
       "tensor([[0., 0., 0., 0., 0., 0.],\n",
       "        [0., 0., 0., 0., 0., 0.],\n",
       "        [0., 0., 0., 0., 0., 0.],\n",
       "        [0., 0., 0., 0., 0., 0.],\n",
       "        [0., 0., 0., 0., 0., 0.]])"
      ]
     },
     "execution_count": 14,
     "metadata": {},
     "output_type": "execute_result"
    }
   ],
   "source": [
    "t_reshape = t.reshape(5, 6)\n",
    "t_reshape"
   ]
  },
  {
   "cell_type": "markdown",
   "id": "b9150da3",
   "metadata": {},
   "source": [
    "#### Remove unnecessary dimensions"
   ]
  },
  {
   "cell_type": "code",
   "execution_count": 15,
   "id": "789671c7",
   "metadata": {},
   "outputs": [
    {
     "data": {
      "text/plain": [
       "tensor([[[[[0.],\n",
       "           [0.],\n",
       "           [0.],\n",
       "           [0.]]],\n",
       "\n",
       "\n",
       "         [[[0.],\n",
       "           [0.],\n",
       "           [0.],\n",
       "           [0.]]]]])"
      ]
     },
     "execution_count": 15,
     "metadata": {},
     "output_type": "execute_result"
    }
   ],
   "source": [
    "t = torch.zeros(1, 2, 1, 4, 1)\n",
    "t"
   ]
  },
  {
   "cell_type": "code",
   "execution_count": 17,
   "id": "05f6e32c",
   "metadata": {},
   "outputs": [
    {
     "data": {
      "text/plain": [
       "tensor([[[[0.],\n",
       "          [0.],\n",
       "          [0.],\n",
       "          [0.]],\n",
       "\n",
       "         [[0.],\n",
       "          [0.],\n",
       "          [0.],\n",
       "          [0.]]]])"
      ]
     },
     "execution_count": 17,
     "metadata": {},
     "output_type": "execute_result"
    }
   ],
   "source": [
    "t_sqz = torch.squeeze(t, 2)\n",
    "t_sqz"
   ]
  },
  {
   "cell_type": "code",
   "execution_count": 18,
   "id": "03163aab",
   "metadata": {},
   "outputs": [
    {
     "name": "stdout",
     "output_type": "stream",
     "text": [
      "torch.Size([1, 2, 1, 4, 1]) ---> torch.Size([1, 2, 4, 1])\n"
     ]
    }
   ],
   "source": [
    "print(t.shape, '--->' , t_sqz.shape)"
   ]
  },
  {
   "cell_type": "markdown",
   "id": "9c113e2e",
   "metadata": {},
   "source": [
    "#### Mathematical Operations"
   ]
  },
  {
   "cell_type": "code",
   "execution_count": 19,
   "id": "61ca0abd",
   "metadata": {},
   "outputs": [
    {
     "data": {
      "text/plain": [
       "(tensor([[ 0.5153, -0.4414],\n",
       "         [-0.1939,  0.4694],\n",
       "         [-0.9414,  0.5997],\n",
       "         [-0.2057,  0.5087],\n",
       "         [ 0.1390, -0.1224]]),\n",
       " tensor([[ 0.8590,  0.7056],\n",
       "         [-0.3406, -1.2720],\n",
       "         [-1.1948,  0.0250],\n",
       "         [-0.7627,  1.3969],\n",
       "         [-0.3245,  0.2879]]))"
      ]
     },
     "execution_count": 19,
     "metadata": {},
     "output_type": "execute_result"
    }
   ],
   "source": [
    "# Initiating 2 tensors \n",
    "torch.manual_seed(1)\n",
    "t1 = 2 * torch.rand(5, 2) - 1\n",
    "t2 = torch.normal(mean=0, std=1, size=(5,2))\n",
    "t1, t2"
   ]
  },
  {
   "cell_type": "code",
   "execution_count": 20,
   "id": "52facd86",
   "metadata": {},
   "outputs": [
    {
     "data": {
      "text/plain": [
       "tensor([[ 0.4426, -0.3114],\n",
       "        [ 0.0660, -0.5970],\n",
       "        [ 1.1249,  0.0150],\n",
       "        [ 0.1569,  0.7107],\n",
       "        [-0.0451, -0.0352]])"
      ]
     },
     "execution_count": 20,
     "metadata": {},
     "output_type": "execute_result"
    }
   ],
   "source": [
    "# Multiply elementwise\n",
    "t3 = torch.multiply(t1, t2)\n",
    "t3"
   ]
  },
  {
   "cell_type": "code",
   "execution_count": 21,
   "id": "673f09dd",
   "metadata": {},
   "outputs": [
    {
     "data": {
      "text/plain": [
       "tensor([-0.1373,  0.2028])"
      ]
     },
     "execution_count": 21,
     "metadata": {},
     "output_type": "execute_result"
    }
   ],
   "source": [
    "# Mean of each column\n",
    "t4 = torch.mean(t1, axis=0)\n",
    "t4"
   ]
  },
  {
   "cell_type": "code",
   "execution_count": 23,
   "id": "e32140ef",
   "metadata": {},
   "outputs": [
    {
     "data": {
      "text/plain": [
       "tensor([ 0.0369,  0.1378, -0.1709,  0.1515,  0.0083])"
      ]
     },
     "execution_count": 23,
     "metadata": {},
     "output_type": "execute_result"
    }
   ],
   "source": [
    "# Calc mean of each row\n",
    "t45 = torch.mean(t1, axis=1)\n",
    "t45"
   ]
  },
  {
   "cell_type": "markdown",
   "id": "52e6645a",
   "metadata": {},
   "source": [
    "#### Matrix multiplication"
   ]
  },
  {
   "cell_type": "code",
   "execution_count": 24,
   "id": "2bda7caa",
   "metadata": {},
   "outputs": [
    {
     "data": {
      "text/plain": [
       "tensor([[ 0.1312,  0.3860, -0.6267, -1.0096, -0.2943],\n",
       "        [ 0.1647, -0.5310,  0.2434,  0.8035,  0.1980],\n",
       "        [-0.3855, -0.4422,  1.1399,  1.5558,  0.4781],\n",
       "        [ 0.1822, -0.5771,  0.2585,  0.8676,  0.2132],\n",
       "        [ 0.0330,  0.1084, -0.1692, -0.2771, -0.0804]])"
      ]
     },
     "execution_count": 24,
     "metadata": {},
     "output_type": "execute_result"
    }
   ],
   "source": [
    "t5 = torch.matmul(t1, torch.transpose(t2, 0, 1))\n",
    "t5"
   ]
  },
  {
   "cell_type": "code",
   "execution_count": 35,
   "id": "2758acf6",
   "metadata": {},
   "outputs": [
    {
     "data": {
      "text/plain": [
       "tensor([[12, 18],\n",
       "        [18, 27]])"
      ]
     },
     "execution_count": 35,
     "metadata": {},
     "output_type": "execute_result"
    }
   ],
   "source": [
    "t6 = torch.tensor([[2, 2, 2],\n",
    "                   [3, 3, 3]])\n",
    "t7 = torch.tensor([[1, 2],\n",
    "                   [2, 3],\n",
    "                   [3, 4]])\n",
    "torch.matmul(t6, t7)"
   ]
  },
  {
   "cell_type": "markdown",
   "id": "1c75b851",
   "metadata": {},
   "source": [
    "#### Split"
   ]
  },
  {
   "cell_type": "code",
   "execution_count": 41,
   "id": "1d062377",
   "metadata": {},
   "outputs": [
    {
     "data": {
      "text/plain": [
       "(tensor([[1, 2]]), tensor([[2, 3]]), tensor([[3, 4]]))"
      ]
     },
     "execution_count": 41,
     "metadata": {},
     "output_type": "execute_result"
    }
   ],
   "source": [
    "torch.chunk(t7, 3)"
   ]
  },
  {
   "cell_type": "markdown",
   "id": "ed0ffb3c",
   "metadata": {},
   "source": [
    "#### Concat"
   ]
  },
  {
   "cell_type": "code",
   "execution_count": 54,
   "id": "5e9c26dc",
   "metadata": {},
   "outputs": [
    {
     "data": {
      "text/plain": [
       "tensor([1, 2, 3, 3, 2, 1])"
      ]
     },
     "execution_count": 54,
     "metadata": {},
     "output_type": "execute_result"
    }
   ],
   "source": [
    "# 1D\n",
    "torch.cat([torch.tensor([1,2,3]), torch.tensor([3,2,1])], axis=0)"
   ]
  },
  {
   "cell_type": "code",
   "execution_count": 56,
   "id": "995f18fd",
   "metadata": {},
   "outputs": [
    {
     "data": {
      "text/plain": [
       "tensor([[2, 2, 2],\n",
       "        [3, 3, 3],\n",
       "        [1, 2, 3],\n",
       "        [2, 3, 4]])"
      ]
     },
     "execution_count": 56,
     "metadata": {},
     "output_type": "execute_result"
    }
   ],
   "source": [
    "# 2D\n",
    "torch.cat([t6, torch.transpose(t7, 0, 1)], axis=0)"
   ]
  },
  {
   "cell_type": "markdown",
   "id": "29f06771",
   "metadata": {},
   "source": [
    "### Datasets"
   ]
  },
  {
   "cell_type": "markdown",
   "id": "854b87f7",
   "metadata": {},
   "source": [
    "#### DataLoader"
   ]
  },
  {
   "cell_type": "code",
   "execution_count": 57,
   "id": "083719eb",
   "metadata": {},
   "outputs": [],
   "source": [
    "# pg 378"
   ]
  },
  {
   "cell_type": "markdown",
   "id": "efd6e62f",
   "metadata": {},
   "source": [
    "#### Dataset\n",
    "- From scratch"
   ]
  },
  {
   "cell_type": "code",
   "execution_count": 58,
   "id": "293645b1",
   "metadata": {},
   "outputs": [
    {
     "data": {
      "text/plain": [
       "(tensor([[0.7576, 0.2793, 0.4031],\n",
       "         [0.7347, 0.0293, 0.7999],\n",
       "         [0.3971, 0.7544, 0.5695],\n",
       "         [0.4388, 0.6387, 0.5247]]),\n",
       " tensor([0, 1, 2, 3]))"
      ]
     },
     "execution_count": 58,
     "metadata": {},
     "output_type": "execute_result"
    }
   ],
   "source": [
    "torch.manual_seed(1)\n",
    "tx = torch.rand([4, 3], dtype=torch.float32)\n",
    "ty = torch.arange(4)\n",
    "tx, ty"
   ]
  },
  {
   "cell_type": "code",
   "execution_count": 61,
   "id": "c261f912",
   "metadata": {},
   "outputs": [],
   "source": [
    "# to create a joint dataset from two tensors (from scratch)\n",
    "from torch.utils.data import Dataset\n",
    "class JointDataset(Dataset):\n",
    "    def __init__(self, x, y): # This is where the initial logic happens\n",
    "        self.x = x\n",
    "        self.y = y\n",
    "        \n",
    "    def __len__(self): \n",
    "        return len(self.x)\n",
    "    \n",
    "    def __getitem__(self, idx): # Returns the corresponding sample to the given index\n",
    "        return self.x[idx], self.y[idx]"
   ]
  },
  {
   "cell_type": "code",
   "execution_count": 67,
   "id": "407b4283",
   "metadata": {},
   "outputs": [
    {
     "name": "stdout",
     "output_type": "stream",
     "text": [
      " x:  tensor([0.7576, 0.2793, 0.4031])  y:  tensor(0)\n",
      " x:  tensor([0.7347, 0.0293, 0.7999])  y:  tensor(1)\n",
      " x:  tensor([0.3971, 0.7544, 0.5695])  y:  tensor(2)\n",
      " x:  tensor([0.4388, 0.6387, 0.5247])  y:  tensor(3)\n"
     ]
    }
   ],
   "source": [
    "jd = JointDataset(tx, ty)\n",
    "for example in jd:\n",
    "    print(' x: ', example[0], ' y: ', example[1])"
   ]
  },
  {
   "cell_type": "markdown",
   "id": "2f527240",
   "metadata": {},
   "source": [
    "#### Datasets\n",
    "- From pytorch library"
   ]
  },
  {
   "cell_type": "code",
   "execution_count": 62,
   "id": "865631e4",
   "metadata": {},
   "outputs": [],
   "source": [
    "from torch.utils.data import TensorDataset\n",
    "joint_dataset = TensorDataset(tx, ty)"
   ]
  },
  {
   "cell_type": "code",
   "execution_count": 64,
   "id": "b9055e79",
   "metadata": {},
   "outputs": [
    {
     "name": "stdout",
     "output_type": "stream",
     "text": [
      " x:  tensor([0.7576, 0.2793, 0.4031])  y:  tensor(0)\n",
      " x:  tensor([0.7347, 0.0293, 0.7999])  y:  tensor(1)\n",
      " x:  tensor([0.3971, 0.7544, 0.5695])  y:  tensor(2)\n",
      " x:  tensor([0.4388, 0.6387, 0.5247])  y:  tensor(3)\n"
     ]
    }
   ],
   "source": [
    "for example in joint_dataset:\n",
    "    print(' x: ', example[0], ' y: ', example[1])"
   ]
  },
  {
   "cell_type": "code",
   "execution_count": null,
   "id": "46a99671",
   "metadata": {},
   "outputs": [],
   "source": []
  }
 ],
 "metadata": {
  "kernelspec": {
   "display_name": "Python 3 (ipykernel)",
   "language": "python",
   "name": "python3"
  },
  "language_info": {
   "codemirror_mode": {
    "name": "ipython",
    "version": 3
   },
   "file_extension": ".py",
   "mimetype": "text/x-python",
   "name": "python",
   "nbconvert_exporter": "python",
   "pygments_lexer": "ipython3",
   "version": "3.11.5"
  }
 },
 "nbformat": 4,
 "nbformat_minor": 5
}
