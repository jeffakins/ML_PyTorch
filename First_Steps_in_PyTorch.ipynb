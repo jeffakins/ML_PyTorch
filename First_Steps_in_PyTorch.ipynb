{
 "cells": [
  {
   "cell_type": "markdown",
   "id": "01d05bc2",
   "metadata": {},
   "source": [
    "# Creating Tensors in PyTorch\n",
    "- From the book ML with Pytorch"
   ]
  },
  {
   "cell_type": "code",
   "execution_count": 1,
   "id": "999b2fa6",
   "metadata": {},
   "outputs": [],
   "source": [
    "import torch\n",
    "import numpy as np"
   ]
  },
  {
   "cell_type": "code",
   "execution_count": 2,
   "id": "98a35b43",
   "metadata": {},
   "outputs": [],
   "source": [
    "np.set_printoptions(precision=3)"
   ]
  },
  {
   "cell_type": "markdown",
   "id": "d5d913b2",
   "metadata": {},
   "source": [
    "#### Tensor Properties\n",
    "retained their properties from their source"
   ]
  },
  {
   "cell_type": "code",
   "execution_count": 3,
   "id": "034fd24c",
   "metadata": {},
   "outputs": [
    {
     "name": "stdout",
     "output_type": "stream",
     "text": [
      "tensor([1, 2, 3])\n",
      "tensor([4, 5, 6], dtype=torch.int32)\n"
     ]
    }
   ],
   "source": [
    "a = [1, 2, 3]\n",
    "b = np.array([4, 5, 6], dtype=np.int32)\n",
    "ta = torch.tensor(a)\n",
    "tb = torch.from_numpy(b)\n",
    "print(ta)\n",
    "print(tb)"
   ]
  },
  {
   "cell_type": "markdown",
   "id": "7b9d09c2",
   "metadata": {},
   "source": [
    "#### Tensor of Ones"
   ]
  },
  {
   "cell_type": "code",
   "execution_count": 7,
   "id": "df0a77de",
   "metadata": {},
   "outputs": [
    {
     "name": "stdout",
     "output_type": "stream",
     "text": [
      "tensor([[1., 1., 1.],\n",
      "        [1., 1., 1.]])\n"
     ]
    },
    {
     "data": {
      "text/plain": [
       "torch.Size([2, 3])"
      ]
     },
     "execution_count": 7,
     "metadata": {},
     "output_type": "execute_result"
    }
   ],
   "source": [
    "t_ones = torch.ones(2, 3)\n",
    "print(t_ones)\n",
    "t_ones.shape"
   ]
  },
  {
   "cell_type": "markdown",
   "id": "e2f5d73a",
   "metadata": {},
   "source": [
    "#### Random Tensors"
   ]
  },
  {
   "cell_type": "code",
   "execution_count": 8,
   "id": "49319fd7",
   "metadata": {},
   "outputs": [
    {
     "name": "stdout",
     "output_type": "stream",
     "text": [
      "tensor([[0.5861, 0.1400, 0.2886],\n",
      "        [0.3380, 0.7557, 0.7275]])\n"
     ]
    }
   ],
   "source": [
    "rand_t = torch.rand(2, 3)\n",
    "print(rand_t)"
   ]
  },
  {
   "cell_type": "markdown",
   "id": "ba5e1095",
   "metadata": {},
   "source": [
    "#### Manipulating the data type and shape of a tensor\n",
    "- See pytorch tensor attributes for all other dtypes"
   ]
  },
  {
   "cell_type": "code",
   "execution_count": 9,
   "id": "06a1ff4d",
   "metadata": {},
   "outputs": [
    {
     "name": "stdout",
     "output_type": "stream",
     "text": [
      "tensor([1, 2, 3])\n",
      "torch.int64\n"
     ]
    }
   ],
   "source": [
    "ta_new = ta.to(torch.int64)\n",
    "print(ta_new)\n",
    "print(ta_new.dtype)"
   ]
  },
  {
   "cell_type": "code",
   "execution_count": null,
   "id": "89432fde",
   "metadata": {},
   "outputs": [],
   "source": []
  }
 ],
 "metadata": {
  "kernelspec": {
   "display_name": "Python 3 (ipykernel)",
   "language": "python",
   "name": "python3"
  },
  "language_info": {
   "codemirror_mode": {
    "name": "ipython",
    "version": 3
   },
   "file_extension": ".py",
   "mimetype": "text/x-python",
   "name": "python",
   "nbconvert_exporter": "python",
   "pygments_lexer": "ipython3",
   "version": "3.11.5"
  }
 },
 "nbformat": 4,
 "nbformat_minor": 5
}
